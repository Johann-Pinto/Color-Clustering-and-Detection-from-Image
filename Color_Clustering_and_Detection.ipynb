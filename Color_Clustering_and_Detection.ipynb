{
 "cells": [
  {
   "cell_type": "markdown",
   "id": "ab437eeb",
   "metadata": {},
   "source": [
    "# Color Clustering and Detection from Image"
   ]
  },
  {
   "cell_type": "markdown",
   "id": "c5f3ec2b",
   "metadata": {},
   "source": [
    "### Importing the Libraries"
   ]
  },
  {
   "cell_type": "code",
   "execution_count": 1,
   "id": "f94981ba",
   "metadata": {},
   "outputs": [],
   "source": [
    "import cv2\n",
    "import numpy as np\n",
    "import pandas as pd\n",
    "import matplotlib.pyplot as plt\n",
    "import textwrap"
   ]
  },
  {
   "cell_type": "markdown",
   "id": "f5cdc745",
   "metadata": {},
   "source": [
    "### Loading the Dataset"
   ]
  },
  {
   "cell_type": "code",
   "execution_count": 2,
   "id": "04a48dd6",
   "metadata": {},
   "outputs": [],
   "source": [
    "index=[\"color\",\"color_name\",\"hex\",\"R\",\"G\",\"B\"]\n",
    "csv = pd.read_csv('colors.csv', names=index, header=None)"
   ]
  },
  {
   "cell_type": "code",
   "execution_count": 3,
   "id": "9534570f",
   "metadata": {},
   "outputs": [
    {
     "data": {
      "text/html": [
       "<div>\n",
       "<style scoped>\n",
       "    .dataframe tbody tr th:only-of-type {\n",
       "        vertical-align: middle;\n",
       "    }\n",
       "\n",
       "    .dataframe tbody tr th {\n",
       "        vertical-align: top;\n",
       "    }\n",
       "\n",
       "    .dataframe thead th {\n",
       "        text-align: right;\n",
       "    }\n",
       "</style>\n",
       "<table border=\"1\" class=\"dataframe\">\n",
       "  <thead>\n",
       "    <tr style=\"text-align: right;\">\n",
       "      <th></th>\n",
       "      <th>color</th>\n",
       "      <th>color_name</th>\n",
       "      <th>hex</th>\n",
       "      <th>R</th>\n",
       "      <th>G</th>\n",
       "      <th>B</th>\n",
       "    </tr>\n",
       "  </thead>\n",
       "  <tbody>\n",
       "    <tr>\n",
       "      <th>0</th>\n",
       "      <td>air_force_blue_raf</td>\n",
       "      <td>Air Force Blue (Raf)</td>\n",
       "      <td>#5d8aa8</td>\n",
       "      <td>93</td>\n",
       "      <td>138</td>\n",
       "      <td>168</td>\n",
       "    </tr>\n",
       "    <tr>\n",
       "      <th>1</th>\n",
       "      <td>air_force_blue_usaf</td>\n",
       "      <td>Air Force Blue (Usaf)</td>\n",
       "      <td>#00308f</td>\n",
       "      <td>0</td>\n",
       "      <td>48</td>\n",
       "      <td>143</td>\n",
       "    </tr>\n",
       "    <tr>\n",
       "      <th>2</th>\n",
       "      <td>air_superiority_blue</td>\n",
       "      <td>Air Superiority Blue</td>\n",
       "      <td>#72a0c1</td>\n",
       "      <td>114</td>\n",
       "      <td>160</td>\n",
       "      <td>193</td>\n",
       "    </tr>\n",
       "    <tr>\n",
       "      <th>3</th>\n",
       "      <td>alabama_crimson</td>\n",
       "      <td>Alabama Crimson</td>\n",
       "      <td>#a32638</td>\n",
       "      <td>163</td>\n",
       "      <td>38</td>\n",
       "      <td>56</td>\n",
       "    </tr>\n",
       "    <tr>\n",
       "      <th>4</th>\n",
       "      <td>alice_blue</td>\n",
       "      <td>Alice Blue</td>\n",
       "      <td>#f0f8ff</td>\n",
       "      <td>240</td>\n",
       "      <td>248</td>\n",
       "      <td>255</td>\n",
       "    </tr>\n",
       "    <tr>\n",
       "      <th>...</th>\n",
       "      <td>...</td>\n",
       "      <td>...</td>\n",
       "      <td>...</td>\n",
       "      <td>...</td>\n",
       "      <td>...</td>\n",
       "      <td>...</td>\n",
       "    </tr>\n",
       "    <tr>\n",
       "      <th>860</th>\n",
       "      <td>yellow_orange</td>\n",
       "      <td>Yellow Orange</td>\n",
       "      <td>#ffae42</td>\n",
       "      <td>255</td>\n",
       "      <td>174</td>\n",
       "      <td>66</td>\n",
       "    </tr>\n",
       "    <tr>\n",
       "      <th>861</th>\n",
       "      <td>yellow_process</td>\n",
       "      <td>Yellow (Process)</td>\n",
       "      <td>#ffef00</td>\n",
       "      <td>255</td>\n",
       "      <td>239</td>\n",
       "      <td>0</td>\n",
       "    </tr>\n",
       "    <tr>\n",
       "      <th>862</th>\n",
       "      <td>yellow_ryb</td>\n",
       "      <td>Yellow (Ryb)</td>\n",
       "      <td>#fefe33</td>\n",
       "      <td>254</td>\n",
       "      <td>254</td>\n",
       "      <td>51</td>\n",
       "    </tr>\n",
       "    <tr>\n",
       "      <th>863</th>\n",
       "      <td>zaffre</td>\n",
       "      <td>Zaffre</td>\n",
       "      <td>#0014a8</td>\n",
       "      <td>0</td>\n",
       "      <td>20</td>\n",
       "      <td>168</td>\n",
       "    </tr>\n",
       "    <tr>\n",
       "      <th>864</th>\n",
       "      <td>zinnwaldite_brown</td>\n",
       "      <td>Zinnwaldite Brown</td>\n",
       "      <td>#2c1608</td>\n",
       "      <td>44</td>\n",
       "      <td>22</td>\n",
       "      <td>8</td>\n",
       "    </tr>\n",
       "  </tbody>\n",
       "</table>\n",
       "<p>865 rows × 6 columns</p>\n",
       "</div>"
      ],
      "text/plain": [
       "                    color             color_name      hex    R    G    B\n",
       "0      air_force_blue_raf   Air Force Blue (Raf)  #5d8aa8   93  138  168\n",
       "1     air_force_blue_usaf  Air Force Blue (Usaf)  #00308f    0   48  143\n",
       "2    air_superiority_blue   Air Superiority Blue  #72a0c1  114  160  193\n",
       "3         alabama_crimson        Alabama Crimson  #a32638  163   38   56\n",
       "4              alice_blue             Alice Blue  #f0f8ff  240  248  255\n",
       "..                    ...                    ...      ...  ...  ...  ...\n",
       "860         yellow_orange          Yellow Orange  #ffae42  255  174   66\n",
       "861        yellow_process       Yellow (Process)  #ffef00  255  239    0\n",
       "862            yellow_ryb           Yellow (Ryb)  #fefe33  254  254   51\n",
       "863                zaffre                 Zaffre  #0014a8    0   20  168\n",
       "864     zinnwaldite_brown      Zinnwaldite Brown  #2c1608   44   22    8\n",
       "\n",
       "[865 rows x 6 columns]"
      ]
     },
     "execution_count": 3,
     "metadata": {},
     "output_type": "execute_result"
    }
   ],
   "source": [
    "csv"
   ]
  },
  {
   "cell_type": "markdown",
   "id": "d27c48c7",
   "metadata": {},
   "source": [
    "*The dataset also contains colors that have the same RGB values/hex codes. For eg : The color 'rose madder' is another name for the color 'alizarin crimson'. Thus both these colors have the same hex code and RGB values in the dataset. Therefore the dataset is to be checked for similar duplicates and only one color is to be retained for a given set of RGB values*"
   ]
  },
  {
   "cell_type": "code",
   "execution_count": 4,
   "id": "66c4efbd",
   "metadata": {},
   "outputs": [
    {
     "data": {
      "text/html": [
       "<div>\n",
       "<style scoped>\n",
       "    .dataframe tbody tr th:only-of-type {\n",
       "        vertical-align: middle;\n",
       "    }\n",
       "\n",
       "    .dataframe tbody tr th {\n",
       "        vertical-align: top;\n",
       "    }\n",
       "\n",
       "    .dataframe thead th {\n",
       "        text-align: right;\n",
       "    }\n",
       "</style>\n",
       "<table border=\"1\" class=\"dataframe\">\n",
       "  <thead>\n",
       "    <tr style=\"text-align: right;\">\n",
       "      <th></th>\n",
       "      <th>color</th>\n",
       "      <th>color_name</th>\n",
       "      <th>hex</th>\n",
       "      <th>R</th>\n",
       "      <th>G</th>\n",
       "      <th>B</th>\n",
       "    </tr>\n",
       "  </thead>\n",
       "  <tbody>\n",
       "    <tr>\n",
       "      <th>96</th>\n",
       "      <td>brown_web</td>\n",
       "      <td>Brown (Web)</td>\n",
       "      <td>#a52a2a</td>\n",
       "      <td>165</td>\n",
       "      <td>42</td>\n",
       "      <td>42</td>\n",
       "    </tr>\n",
       "    <tr>\n",
       "      <th>146</th>\n",
       "      <td>cerulean</td>\n",
       "      <td>Cerulean</td>\n",
       "      <td>#007ba7</td>\n",
       "      <td>0</td>\n",
       "      <td>123</td>\n",
       "      <td>167</td>\n",
       "    </tr>\n",
       "    <tr>\n",
       "      <th>157</th>\n",
       "      <td>cherry</td>\n",
       "      <td>Cherry</td>\n",
       "      <td>#de3163</td>\n",
       "      <td>222</td>\n",
       "      <td>49</td>\n",
       "      <td>99</td>\n",
       "    </tr>\n",
       "    <tr>\n",
       "      <th>168</th>\n",
       "      <td>cinnamon</td>\n",
       "      <td>Cinnamon</td>\n",
       "      <td>#d2691e</td>\n",
       "      <td>210</td>\n",
       "      <td>105</td>\n",
       "      <td>30</td>\n",
       "    </tr>\n",
       "    <tr>\n",
       "      <th>172</th>\n",
       "      <td>cocoa_brown</td>\n",
       "      <td>Cocoa Brown</td>\n",
       "      <td>#d2691e</td>\n",
       "      <td>210</td>\n",
       "      <td>105</td>\n",
       "      <td>30</td>\n",
       "    </tr>\n",
       "  </tbody>\n",
       "</table>\n",
       "</div>"
      ],
      "text/plain": [
       "           color   color_name      hex    R    G    B\n",
       "96     brown_web  Brown (Web)  #a52a2a  165   42   42\n",
       "146     cerulean     Cerulean  #007ba7    0  123  167\n",
       "157       cherry       Cherry  #de3163  222   49   99\n",
       "168     cinnamon     Cinnamon  #d2691e  210  105   30\n",
       "172  cocoa_brown  Cocoa Brown  #d2691e  210  105   30"
      ]
     },
     "execution_count": 4,
     "metadata": {},
     "output_type": "execute_result"
    }
   ],
   "source": [
    "duplicate = csv[csv.duplicated(['R', 'G', 'B'], keep='first')]\n",
    "duplicate.head()"
   ]
  },
  {
   "cell_type": "markdown",
   "id": "f6b4bab1",
   "metadata": {},
   "source": [
    "*Therefore there are 100 duplicates. We thus drop all the duplicates keeping only the first occurence of the duplicates.*"
   ]
  },
  {
   "cell_type": "code",
   "execution_count": 5,
   "id": "daf342e6",
   "metadata": {},
   "outputs": [],
   "source": [
    "csv = csv.drop_duplicates(\n",
    "  subset = ['R', 'G','B'],\n",
    "  keep = 'first').reset_index(drop = True)"
   ]
  },
  {
   "cell_type": "code",
   "execution_count": 6,
   "id": "58a0f366",
   "metadata": {},
   "outputs": [
    {
     "data": {
      "text/html": [
       "<div>\n",
       "<style scoped>\n",
       "    .dataframe tbody tr th:only-of-type {\n",
       "        vertical-align: middle;\n",
       "    }\n",
       "\n",
       "    .dataframe tbody tr th {\n",
       "        vertical-align: top;\n",
       "    }\n",
       "\n",
       "    .dataframe thead th {\n",
       "        text-align: right;\n",
       "    }\n",
       "</style>\n",
       "<table border=\"1\" class=\"dataframe\">\n",
       "  <thead>\n",
       "    <tr style=\"text-align: right;\">\n",
       "      <th></th>\n",
       "      <th>color</th>\n",
       "      <th>color_name</th>\n",
       "      <th>hex</th>\n",
       "      <th>R</th>\n",
       "      <th>G</th>\n",
       "      <th>B</th>\n",
       "    </tr>\n",
       "  </thead>\n",
       "  <tbody>\n",
       "    <tr>\n",
       "      <th>0</th>\n",
       "      <td>air_force_blue_raf</td>\n",
       "      <td>Air Force Blue (Raf)</td>\n",
       "      <td>#5d8aa8</td>\n",
       "      <td>93</td>\n",
       "      <td>138</td>\n",
       "      <td>168</td>\n",
       "    </tr>\n",
       "    <tr>\n",
       "      <th>1</th>\n",
       "      <td>air_force_blue_usaf</td>\n",
       "      <td>Air Force Blue (Usaf)</td>\n",
       "      <td>#00308f</td>\n",
       "      <td>0</td>\n",
       "      <td>48</td>\n",
       "      <td>143</td>\n",
       "    </tr>\n",
       "    <tr>\n",
       "      <th>2</th>\n",
       "      <td>air_superiority_blue</td>\n",
       "      <td>Air Superiority Blue</td>\n",
       "      <td>#72a0c1</td>\n",
       "      <td>114</td>\n",
       "      <td>160</td>\n",
       "      <td>193</td>\n",
       "    </tr>\n",
       "    <tr>\n",
       "      <th>3</th>\n",
       "      <td>alabama_crimson</td>\n",
       "      <td>Alabama Crimson</td>\n",
       "      <td>#a32638</td>\n",
       "      <td>163</td>\n",
       "      <td>38</td>\n",
       "      <td>56</td>\n",
       "    </tr>\n",
       "    <tr>\n",
       "      <th>4</th>\n",
       "      <td>alice_blue</td>\n",
       "      <td>Alice Blue</td>\n",
       "      <td>#f0f8ff</td>\n",
       "      <td>240</td>\n",
       "      <td>248</td>\n",
       "      <td>255</td>\n",
       "    </tr>\n",
       "    <tr>\n",
       "      <th>...</th>\n",
       "      <td>...</td>\n",
       "      <td>...</td>\n",
       "      <td>...</td>\n",
       "      <td>...</td>\n",
       "      <td>...</td>\n",
       "      <td>...</td>\n",
       "    </tr>\n",
       "    <tr>\n",
       "      <th>760</th>\n",
       "      <td>yellow_ncs</td>\n",
       "      <td>Yellow (Ncs)</td>\n",
       "      <td>#ffd300</td>\n",
       "      <td>255</td>\n",
       "      <td>211</td>\n",
       "      <td>0</td>\n",
       "    </tr>\n",
       "    <tr>\n",
       "      <th>761</th>\n",
       "      <td>yellow_orange</td>\n",
       "      <td>Yellow Orange</td>\n",
       "      <td>#ffae42</td>\n",
       "      <td>255</td>\n",
       "      <td>174</td>\n",
       "      <td>66</td>\n",
       "    </tr>\n",
       "    <tr>\n",
       "      <th>762</th>\n",
       "      <td>yellow_ryb</td>\n",
       "      <td>Yellow (Ryb)</td>\n",
       "      <td>#fefe33</td>\n",
       "      <td>254</td>\n",
       "      <td>254</td>\n",
       "      <td>51</td>\n",
       "    </tr>\n",
       "    <tr>\n",
       "      <th>763</th>\n",
       "      <td>zaffre</td>\n",
       "      <td>Zaffre</td>\n",
       "      <td>#0014a8</td>\n",
       "      <td>0</td>\n",
       "      <td>20</td>\n",
       "      <td>168</td>\n",
       "    </tr>\n",
       "    <tr>\n",
       "      <th>764</th>\n",
       "      <td>zinnwaldite_brown</td>\n",
       "      <td>Zinnwaldite Brown</td>\n",
       "      <td>#2c1608</td>\n",
       "      <td>44</td>\n",
       "      <td>22</td>\n",
       "      <td>8</td>\n",
       "    </tr>\n",
       "  </tbody>\n",
       "</table>\n",
       "<p>765 rows × 6 columns</p>\n",
       "</div>"
      ],
      "text/plain": [
       "                    color             color_name      hex    R    G    B\n",
       "0      air_force_blue_raf   Air Force Blue (Raf)  #5d8aa8   93  138  168\n",
       "1     air_force_blue_usaf  Air Force Blue (Usaf)  #00308f    0   48  143\n",
       "2    air_superiority_blue   Air Superiority Blue  #72a0c1  114  160  193\n",
       "3         alabama_crimson        Alabama Crimson  #a32638  163   38   56\n",
       "4              alice_blue             Alice Blue  #f0f8ff  240  248  255\n",
       "..                    ...                    ...      ...  ...  ...  ...\n",
       "760            yellow_ncs           Yellow (Ncs)  #ffd300  255  211    0\n",
       "761         yellow_orange          Yellow Orange  #ffae42  255  174   66\n",
       "762            yellow_ryb           Yellow (Ryb)  #fefe33  254  254   51\n",
       "763                zaffre                 Zaffre  #0014a8    0   20  168\n",
       "764     zinnwaldite_brown      Zinnwaldite Brown  #2c1608   44   22    8\n",
       "\n",
       "[765 rows x 6 columns]"
      ]
     },
     "execution_count": 6,
     "metadata": {},
     "output_type": "execute_result"
    }
   ],
   "source": [
    "csv"
   ]
  },
  {
   "cell_type": "markdown",
   "id": "85a0b85b",
   "metadata": {},
   "source": [
    "#### Checking for any null values"
   ]
  },
  {
   "cell_type": "code",
   "execution_count": 7,
   "id": "b45f00b0",
   "metadata": {},
   "outputs": [
    {
     "data": {
      "text/plain": [
       "color         0\n",
       "color_name    0\n",
       "hex           0\n",
       "R             0\n",
       "G             0\n",
       "B             0\n",
       "dtype: int64"
      ]
     },
     "execution_count": 7,
     "metadata": {},
     "output_type": "execute_result"
    }
   ],
   "source": [
    "csv.isnull().sum()"
   ]
  },
  {
   "cell_type": "markdown",
   "id": "b25cef99",
   "metadata": {},
   "source": [
    "*Dataset does not contain any null values*"
   ]
  },
  {
   "cell_type": "markdown",
   "id": "e91150a0",
   "metadata": {},
   "source": [
    "#### Converting dataframe into numpy array "
   ]
  },
  {
   "cell_type": "code",
   "execution_count": 8,
   "id": "3e871171",
   "metadata": {
    "scrolled": true
   },
   "outputs": [],
   "source": [
    "colors=np.array(csv)\n",
    "rgb=np.array(csv)[:,-3:]"
   ]
  },
  {
   "cell_type": "code",
   "execution_count": 9,
   "id": "b04362a2",
   "metadata": {
    "scrolled": false
   },
   "outputs": [
    {
     "name": "stdout",
     "output_type": "stream",
     "text": [
      "[['air_force_blue_raf' 'Air Force Blue (Raf)' '#5d8aa8' 93 138 168]\n",
      " ['air_force_blue_usaf' 'Air Force Blue (Usaf)' '#00308f' 0 48 143]\n",
      " ['air_superiority_blue' 'Air Superiority Blue' '#72a0c1' 114 160 193]\n",
      " ...\n",
      " ['yellow_ryb' 'Yellow (Ryb)' '#fefe33' 254 254 51]\n",
      " ['zaffre' 'Zaffre' '#0014a8' 0 20 168]\n",
      " ['zinnwaldite_brown' 'Zinnwaldite Brown' '#2c1608' 44 22 8]]\n"
     ]
    }
   ],
   "source": [
    "#Contains the rgb values with color name\n",
    "print(colors)"
   ]
  },
  {
   "cell_type": "code",
   "execution_count": 10,
   "id": "df7420b4",
   "metadata": {},
   "outputs": [
    {
     "name": "stdout",
     "output_type": "stream",
     "text": [
      "[[93 138 168]\n",
      " [0 48 143]\n",
      " [114 160 193]\n",
      " ...\n",
      " [254 254 51]\n",
      " [0 20 168]\n",
      " [44 22 8]]\n"
     ]
    }
   ],
   "source": [
    "#Contains only the rgb values of the colors\n",
    "print(rgb)"
   ]
  },
  {
   "cell_type": "markdown",
   "id": "1216bc80",
   "metadata": {},
   "source": [
    "## KMeans Clustering"
   ]
  },
  {
   "cell_type": "code",
   "execution_count": 11,
   "id": "bfc1d28c",
   "metadata": {},
   "outputs": [],
   "source": [
    "from sklearn.cluster import KMeans\n",
    "model = KMeans(n_clusters=130, init=\"k-means++\", random_state=5)\n",
    "model.fit(rgb)\n",
    "\n",
    "#Get the cluster label for each color\n",
    "color_label = model.labels_"
   ]
  },
  {
   "cell_type": "code",
   "execution_count": 12,
   "id": "ca7c0739",
   "metadata": {},
   "outputs": [],
   "source": [
    "#Get hex code from R,G,B values\n",
    "def findhex(R,G,B):\n",
    "  for i in range(len(colors)):\n",
    "    if(colors[i,3]==R and colors[i,4]==G and colors[i,5]==B):\n",
    "      return colors[i,2]\n",
    "\n",
    "#Get color name from R,G,B values\n",
    "def findname(R,G,B):\n",
    "  for i in range(len(colors)):\n",
    "    if(colors[i,3]==R and colors[i,4]==G and colors[i,5]==B):\n",
    "      return colors[i,1]"
   ]
  },
  {
   "cell_type": "code",
   "execution_count": 13,
   "id": "fc32cc9f",
   "metadata": {},
   "outputs": [],
   "source": [
    "#Plot the colors of a cluster as subplots\n",
    "def show(f):\n",
    "  n=int(len(f)/4)\n",
    "  if(len(f)%4!=0):\n",
    "    n=n+1\n",
    "  k=0\n",
    "  for i in range(n):\n",
    "    for j in range(4):       \n",
    "       ax = plt.subplot2grid((n,4), (i,j), colspan=1, rowspan=1)\n",
    "       plt.subplots_adjust(hspace=0.8)\n",
    "       ax.title.set_text(\"\\n\".join(textwrap.wrap(findname(f[k,0],f[k,1],f[k,2]),12)))\n",
    "       ax.set_facecolor(findhex(f[k,0],f[k,1],f[k,2]))\n",
    "       ax.set_yticklabels([])      \n",
    "       ax.set_xticklabels([])\n",
    "       k=k+1\n",
    "       if(k==len(f)):\n",
    "         return\n",
    "  plt.show()"
   ]
  },
  {
   "cell_type": "code",
   "execution_count": 14,
   "id": "35c33496",
   "metadata": {},
   "outputs": [],
   "source": [
    "#Show nth Cluster\n",
    "def getCluster(n):\n",
    "    clstr = rgb[color_label==n-1]\n",
    "    show(clstr)"
   ]
  },
  {
   "cell_type": "markdown",
   "id": "7f7b4a0f",
   "metadata": {},
   "source": [
    "### The first 10 clusters formed by Kmeans Clustering are :"
   ]
  },
  {
   "cell_type": "code",
   "execution_count": 15,
   "id": "e65019dc",
   "metadata": {
    "scrolled": true
   },
   "outputs": [
    {
     "data": {
      "image/png": "[encoded data removed]",
      "text/plain": [
       "<Figure size 432x288 with 7 Axes>"
      ]
     },
     "metadata": {
      "needs_background": "light"
     },
     "output_type": "display_data"
    }
   ],
   "source": [
    "getCluster(1)"
   ]
  },
  {
   "cell_type": "code",
   "execution_count": 16,
   "id": "2bb2ce36",
   "metadata": {
    "scrolled": false
   },
   "outputs": [
    {
     "data": {
      "image/png": "[encoded data removed]",
      "text/plain": [
       "<Figure size 432x288 with 2 Axes>"
      ]
     },
     "metadata": {
      "needs_background": "light"
     },
     "output_type": "display_data"
    }
   ],
   "source": [
    "getCluster(2)"
   ]
  },
  {
   "cell_type": "code",
   "execution_count": 17,
   "id": "8ccb3dee",
   "metadata": {},
   "outputs": [
    {
     "data": {
      "image/png": "[encoded data removed]",
      "text/plain": [
       "<Figure size 432x288 with 8 Axes>"
      ]
     },
     "metadata": {
      "needs_background": "light"
     },
     "output_type": "display_data"
    }
   ],
   "source": [
    "getCluster(3)"
   ]
  },
  {
   "cell_type": "code",
   "execution_count": 18,
   "id": "c360c288",
   "metadata": {
    "scrolled": true
   },
   "outputs": [
    {
     "data": {
      "image/png": "[encoded data removed]",
      "text/plain": [
       "<Figure size 432x288 with 4 Axes>"
      ]
     },
     "metadata": {
      "needs_background": "light"
     },
     "output_type": "display_data"
    }
   ],
   "source": [
    "getCluster(4)"
   ]
  },
  {
   "cell_type": "code",
   "execution_count": 19,
   "id": "06ed424c",
   "metadata": {},
   "outputs": [
    {
     "data": {
      "image/png": "[encoded data removed]",
      "text/plain": [
       "<Figure size 432x288 with 8 Axes>"
      ]
     },
     "metadata": {
      "needs_background": "light"
     },
     "output_type": "display_data"
    }
   ],
   "source": [
    "getCluster(6)"
   ]
  },
  {
   "cell_type": "code",
   "execution_count": 20,
   "id": "47cfdea1",
   "metadata": {},
   "outputs": [
    {
     "data": {
      "image/png": "[encoded data removed]",
      "text/plain": [
       "<Figure size 432x288 with 2 Axes>"
      ]
     },
     "metadata": {
      "needs_background": "light"
     },
     "output_type": "display_data"
    }
   ],
   "source": [
    "getCluster(7)"
   ]
  },
  {
   "cell_type": "code",
   "execution_count": 21,
   "id": "0c114168",
   "metadata": {},
   "outputs": [
    {
     "data": {
      "image/png": "[encoded data removed]",
      "text/plain": [
       "<Figure size 432x288 with 9 Axes>"
      ]
     },
     "metadata": {
      "needs_background": "light"
     },
     "output_type": "display_data"
    }
   ],
   "source": [
    "getCluster(8)"
   ]
  },
  {
   "cell_type": "code",
   "execution_count": 22,
   "id": "450921a2",
   "metadata": {},
   "outputs": [
    {
     "data": {
      "image/png": "[encoded data removed]",
      "text/plain": [
       "<Figure size 432x288 with 10 Axes>"
      ]
     },
     "metadata": {
      "needs_background": "light"
     },
     "output_type": "display_data"
    }
   ],
   "source": [
    "getCluster(9)"
   ]
  },
  {
   "cell_type": "code",
   "execution_count": 23,
   "id": "0d0d8305",
   "metadata": {},
   "outputs": [
    {
     "data": {
      "image/png": "[encoded data removed]",
      "text/plain": [
       "<Figure size 432x288 with 3 Axes>"
      ]
     },
     "metadata": {
      "needs_background": "light"
     },
     "output_type": "display_data"
    }
   ],
   "source": [
    "getCluster(10)"
   ]
  },
  {
   "cell_type": "markdown",
   "id": "32d97f54",
   "metadata": {},
   "source": [
    "#### Checking a random cluster"
   ]
  },
  {
   "cell_type": "code",
   "execution_count": 24,
   "id": "6f5a2564",
   "metadata": {},
   "outputs": [
    {
     "data": {
      "image/png": "[encoded data removed]",
      "text/plain": [
       "<Figure size 432x288 with 6 Axes>"
      ]
     },
     "metadata": {
      "needs_background": "light"
     },
     "output_type": "display_data"
    }
   ],
   "source": [
    "getCluster(75)"
   ]
  },
  {
   "cell_type": "markdown",
   "id": "fbf35d2a",
   "metadata": {},
   "source": [
    "# COLOR DETECTION USING OPENCV"
   ]
  },
  {
   "cell_type": "code",
   "execution_count": 25,
   "id": "1d0936dd",
   "metadata": {},
   "outputs": [],
   "source": [
    "img_path = 'detect_color.jpg'\n",
    "# To input from user use :\n",
    "# img_path = input('Enter image path :')\n",
    "\n",
    "#Reading the image with opencv\n",
    "img = cv2.imread(img_path)\n",
    "\n",
    "#declaring global variables\n",
    "clicked = False\n",
    "r = g = b = xpos = ypos = 0"
   ]
  },
  {
   "cell_type": "code",
   "execution_count": 26,
   "id": "9bf505f5",
   "metadata": {},
   "outputs": [],
   "source": [
    "#function to calculate minimum Manhattan distance from all colors and get the most matching color\n",
    "def getColorName(R,G,B):\n",
    "    minimum = 10000\n",
    "    for i in range(len(csv)):\n",
    "        d = abs(R- int(csv.loc[i,\"R\"])) + abs(G- int(csv.loc[i,\"G\"]))+ abs(B- int(csv.loc[i,\"B\"]))\n",
    "        if(d<=minimum):\n",
    "            minimum = d\n",
    "            cname = csv.loc[i,\"color_name\"]\n",
    "    return cname"
   ]
  },
  {
   "cell_type": "code",
   "execution_count": 27,
   "id": "e7e41b81",
   "metadata": {},
   "outputs": [],
   "source": [
    "#function to get x,y coordinates of mouse double click\n",
    "def draw_function(event, x,y,flags,param):\n",
    "    if event == cv2.EVENT_LBUTTONDBLCLK:\n",
    "        global b,g,r,xpos,ypos, clicked\n",
    "        clicked = True\n",
    "        xpos = x\n",
    "        ypos = y\n",
    "        b,g,r = img[y,x]\n",
    "        b = int(b)\n",
    "        g = int(g)\n",
    "        r = int(r)"
   ]
  },
  {
   "cell_type": "markdown",
   "id": "56c200bc",
   "metadata": {},
   "source": [
    "## Open new window to detect color from image"
   ]
  },
  {
   "cell_type": "code",
   "execution_count": 28,
   "id": "50e8bf12",
   "metadata": {},
   "outputs": [],
   "source": [
    "cv2.namedWindow('image')\n",
    "font = cv2.FONT_HERSHEY_SIMPLEX\n",
    "cv2.setMouseCallback('image',draw_function)\n",
    "\n",
    "while(1):\n",
    "\n",
    "    cv2.imshow(\"image\",img)\n",
    "    if (clicked):\n",
    "   \n",
    "        #cv2.rectangle(image, startpoint, endpoint, color, thickness)-1 fills entire rectangle \n",
    "        cv2.rectangle(img,(20,20), (975,60), (b,g,r), -1)\n",
    "\n",
    "        #Creating text string to display( Color name and RGB values )\n",
    "        text = 'Predicted Color : ' + getColorName(r,g,b) + ' R='+ str(r) +  ' G='+ str(g) +  ' B='+ str(b)\n",
    "        \n",
    "        #cv2.putText(img,text,start,font(0-7),fontScale,color,thickness,lineType )\n",
    "        cv2.putText(img, text,(50,50),2,0.9,(255,255,255),2,cv2.LINE_AA)\n",
    "\n",
    "        #For very light colours we will display text in black colour\n",
    "        if(r+g+b>=600):\n",
    "            cv2.putText(img, text,(50,50),2,0.9,(0,0,0),2,cv2.LINE_AA)\n",
    "            \n",
    "        clicked=False\n",
    "\n",
    "    #Exit the program when ESC key is pressed    \n",
    "    if cv2.waitKey(20) & 0xFF ==27:\n",
    "        break\n",
    "    \n",
    "cv2.destroyAllWindows()"
   ]
  },
  {
   "cell_type": "code",
   "execution_count": null,
   "id": "6e04a09b",
   "metadata": {},
   "outputs": [],
   "source": []
  }
 ],
 "metadata": {
  "kernelspec": {
   "display_name": "Python 3",
   "language": "python",
   "name": "python3"
  },
  "language_info": {
   "codemirror_mode": {
    "name": "ipython",
    "version": 3
   },
   "file_extension": ".py",
   "mimetype": "text/x-python",
   "name": "python",
   "nbconvert_exporter": "python",
   "pygments_lexer": "ipython3",
   "version": "3.8.8"
  }
 },
 "nbformat": 4,
 "nbformat_minor": 5
}
